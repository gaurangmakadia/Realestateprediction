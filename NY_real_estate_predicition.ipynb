{
  "nbformat": 4,
  "nbformat_minor": 0,
  "metadata": {
    "colab": {
      "name": "NY real estate predicition",
      "provenance": [],
      "collapsed_sections": []
    },
    "kernelspec": {
      "name": "python3",
      "display_name": "Python 3"
    }
  },
  "cells": [
    {
      "cell_type": "code",
      "metadata": {
        "id": "azr84RawyUFO",
        "colab_type": "code",
        "colab": {}
      },
      "source": [
        "# Needed Libraries\n",
        "import numpy as np\n",
        "import pandas as pd\n",
        "import seaborn as sns\n",
        "\n",
        "# Data visualization\n",
        "import matplotlib.pyplot as plt\n",
        "from sklearn.datasets import load_iris\n",
        "%matplotlib inline\n",
        "from scipy import stats\n",
        "from sklearn.preprocessing import LabelEncoder\n",
        "\n",
        "# Importing Machine Learning related packages\n",
        "from sklearn.model_selection import train_test_split\n",
        "import statsmodels.api as sm\n",
        "from sklearn.metrics import mean_squared_error, r2_score\n",
        "from sklearn.linear_model import LinearRegression\n",
        "from sklearn.tree import DecisionTreeRegressor\n",
        "from sklearn.ensemble import RandomForestRegressor\n",
        "from sklearn.ensemble import GradientBoostingRegressor"
      ],
      "execution_count": 0,
      "outputs": []
    },
    {
      "cell_type": "code",
      "metadata": {
        "id": "9QYR83LI0sBd",
        "colab_type": "code",
        "colab": {
          "base_uri": "https://localhost:8080/",
          "height": 395
        },
        "outputId": "9e2cf4b1-59e6-4125-92d8-a7a7f0fac6bd"
      },
      "source": [
        "# Extract data from csv file\n",
        "df = pd.read_csv(\"NYREIT Data.csv\")\n",
        "df.head()"
      ],
      "execution_count": 5,
      "outputs": [
        {
          "output_type": "execute_result",
          "data": {
            "text/html": [
              "<div>\n",
              "<style scoped>\n",
              "    .dataframe tbody tr th:only-of-type {\n",
              "        vertical-align: middle;\n",
              "    }\n",
              "\n",
              "    .dataframe tbody tr th {\n",
              "        vertical-align: top;\n",
              "    }\n",
              "\n",
              "    .dataframe thead th {\n",
              "        text-align: right;\n",
              "    }\n",
              "</style>\n",
              "<table border=\"1\" class=\"dataframe\">\n",
              "  <thead>\n",
              "    <tr style=\"text-align: right;\">\n",
              "      <th></th>\n",
              "      <th>tx_price</th>\n",
              "      <th>beds</th>\n",
              "      <th>baths</th>\n",
              "      <th>sqft</th>\n",
              "      <th>year_built</th>\n",
              "      <th>lot_size</th>\n",
              "      <th>property_type</th>\n",
              "      <th>exterior_walls</th>\n",
              "      <th>roof</th>\n",
              "      <th>basement</th>\n",
              "      <th>restaurants</th>\n",
              "      <th>groceries</th>\n",
              "      <th>nightlife</th>\n",
              "      <th>cafes</th>\n",
              "      <th>shopping</th>\n",
              "      <th>arts_entertainment</th>\n",
              "      <th>beauty_spas</th>\n",
              "      <th>active_life</th>\n",
              "      <th>median_age</th>\n",
              "      <th>married</th>\n",
              "      <th>college_grad</th>\n",
              "      <th>property_tax</th>\n",
              "      <th>insurance</th>\n",
              "      <th>median_school</th>\n",
              "      <th>num_schools</th>\n",
              "      <th>tx_year</th>\n",
              "    </tr>\n",
              "  </thead>\n",
              "  <tbody>\n",
              "    <tr>\n",
              "      <th>0</th>\n",
              "      <td>295850</td>\n",
              "      <td>1</td>\n",
              "      <td>1</td>\n",
              "      <td>584</td>\n",
              "      <td>2013</td>\n",
              "      <td>0</td>\n",
              "      <td>Apartment / Condo / Townhouse</td>\n",
              "      <td>Wood Siding</td>\n",
              "      <td>NaN</td>\n",
              "      <td>NaN</td>\n",
              "      <td>107</td>\n",
              "      <td>9</td>\n",
              "      <td>30</td>\n",
              "      <td>19</td>\n",
              "      <td>89</td>\n",
              "      <td>6</td>\n",
              "      <td>47</td>\n",
              "      <td>58</td>\n",
              "      <td>33</td>\n",
              "      <td>65</td>\n",
              "      <td>84</td>\n",
              "      <td>234</td>\n",
              "      <td>81</td>\n",
              "      <td>9.0</td>\n",
              "      <td>3</td>\n",
              "      <td>2013</td>\n",
              "    </tr>\n",
              "    <tr>\n",
              "      <th>1</th>\n",
              "      <td>216500</td>\n",
              "      <td>1</td>\n",
              "      <td>1</td>\n",
              "      <td>612</td>\n",
              "      <td>1965</td>\n",
              "      <td>0</td>\n",
              "      <td>Apartment / Condo / Townhouse</td>\n",
              "      <td>Brick</td>\n",
              "      <td>Composition Shingle</td>\n",
              "      <td>1.0</td>\n",
              "      <td>105</td>\n",
              "      <td>15</td>\n",
              "      <td>6</td>\n",
              "      <td>13</td>\n",
              "      <td>87</td>\n",
              "      <td>2</td>\n",
              "      <td>26</td>\n",
              "      <td>14</td>\n",
              "      <td>39</td>\n",
              "      <td>73</td>\n",
              "      <td>69</td>\n",
              "      <td>169</td>\n",
              "      <td>51</td>\n",
              "      <td>3.0</td>\n",
              "      <td>3</td>\n",
              "      <td>2006</td>\n",
              "    </tr>\n",
              "    <tr>\n",
              "      <th>2</th>\n",
              "      <td>279900</td>\n",
              "      <td>1</td>\n",
              "      <td>1</td>\n",
              "      <td>615</td>\n",
              "      <td>1963</td>\n",
              "      <td>0</td>\n",
              "      <td>Apartment / Condo / Townhouse</td>\n",
              "      <td>Wood Siding</td>\n",
              "      <td>NaN</td>\n",
              "      <td>NaN</td>\n",
              "      <td>183</td>\n",
              "      <td>13</td>\n",
              "      <td>31</td>\n",
              "      <td>30</td>\n",
              "      <td>101</td>\n",
              "      <td>10</td>\n",
              "      <td>74</td>\n",
              "      <td>62</td>\n",
              "      <td>28</td>\n",
              "      <td>15</td>\n",
              "      <td>86</td>\n",
              "      <td>216</td>\n",
              "      <td>74</td>\n",
              "      <td>8.0</td>\n",
              "      <td>3</td>\n",
              "      <td>2012</td>\n",
              "    </tr>\n",
              "    <tr>\n",
              "      <th>3</th>\n",
              "      <td>379900</td>\n",
              "      <td>1</td>\n",
              "      <td>1</td>\n",
              "      <td>618</td>\n",
              "      <td>2000</td>\n",
              "      <td>33541</td>\n",
              "      <td>Apartment / Condo / Townhouse</td>\n",
              "      <td>Wood Siding</td>\n",
              "      <td>NaN</td>\n",
              "      <td>NaN</td>\n",
              "      <td>198</td>\n",
              "      <td>9</td>\n",
              "      <td>38</td>\n",
              "      <td>25</td>\n",
              "      <td>127</td>\n",
              "      <td>11</td>\n",
              "      <td>72</td>\n",
              "      <td>83</td>\n",
              "      <td>36</td>\n",
              "      <td>25</td>\n",
              "      <td>91</td>\n",
              "      <td>265</td>\n",
              "      <td>92</td>\n",
              "      <td>9.0</td>\n",
              "      <td>3</td>\n",
              "      <td>2005</td>\n",
              "    </tr>\n",
              "    <tr>\n",
              "      <th>4</th>\n",
              "      <td>340000</td>\n",
              "      <td>1</td>\n",
              "      <td>1</td>\n",
              "      <td>634</td>\n",
              "      <td>1992</td>\n",
              "      <td>0</td>\n",
              "      <td>Apartment / Condo / Townhouse</td>\n",
              "      <td>Brick</td>\n",
              "      <td>NaN</td>\n",
              "      <td>NaN</td>\n",
              "      <td>149</td>\n",
              "      <td>7</td>\n",
              "      <td>22</td>\n",
              "      <td>20</td>\n",
              "      <td>83</td>\n",
              "      <td>10</td>\n",
              "      <td>50</td>\n",
              "      <td>73</td>\n",
              "      <td>37</td>\n",
              "      <td>20</td>\n",
              "      <td>75</td>\n",
              "      <td>88</td>\n",
              "      <td>30</td>\n",
              "      <td>9.0</td>\n",
              "      <td>3</td>\n",
              "      <td>2002</td>\n",
              "    </tr>\n",
              "  </tbody>\n",
              "</table>\n",
              "</div>"
            ],
            "text/plain": [
              "   tx_price  beds  baths  sqft  ...  insurance  median_school num_schools tx_year\n",
              "0    295850     1      1   584  ...         81            9.0           3    2013\n",
              "1    216500     1      1   612  ...         51            3.0           3    2006\n",
              "2    279900     1      1   615  ...         74            8.0           3    2012\n",
              "3    379900     1      1   618  ...         92            9.0           3    2005\n",
              "4    340000     1      1   634  ...         30            9.0           3    2002\n",
              "\n",
              "[5 rows x 26 columns]"
            ]
          },
          "metadata": {
            "tags": []
          },
          "execution_count": 5
        }
      ]
    },
    {
      "cell_type": "code",
      "metadata": {
        "id": "oHu4ngF_JHIA",
        "colab_type": "code",
        "colab": {
          "base_uri": "https://localhost:8080/",
          "height": 35
        },
        "outputId": "86955ee8-ea9c-45aa-b953-a53b8721c8eb"
      },
      "source": [
        "#shape of train data\n",
        "df.shape"
      ],
      "execution_count": 6,
      "outputs": [
        {
          "output_type": "execute_result",
          "data": {
            "text/plain": [
              "(1883, 26)"
            ]
          },
          "metadata": {
            "tags": []
          },
          "execution_count": 6
        }
      ]
    },
    {
      "cell_type": "code",
      "metadata": {
        "id": "hiTF8UVt6Ieg",
        "colab_type": "code",
        "colab": {}
      },
      "source": [
        "# Data sets information\n",
        "df.info()"
      ],
      "execution_count": 0,
      "outputs": []
    },
    {
      "cell_type": "code",
      "metadata": {
        "id": "fQ3_viHh1O-v",
        "colab_type": "code",
        "colab": {}
      },
      "source": [
        "# summary statistics for numerical columns\n",
        "df.describe()"
      ],
      "execution_count": 0,
      "outputs": []
    },
    {
      "cell_type": "code",
      "metadata": {
        "id": "XtKC8BOH1j7d",
        "colab_type": "code",
        "colab": {}
      },
      "source": [
        "# Data Structure of the data set\n",
        "df.dtypes"
      ],
      "execution_count": 0,
      "outputs": []
    },
    {
      "cell_type": "code",
      "metadata": {
        "id": "byh_4PP56ZWP",
        "colab_type": "code",
        "colab": {}
      },
      "source": [
        "plt.subplots(figsize=(12,9))\n",
        "sns.distplot(df['tx_price'], fit=stats.norm)\n",
        "\n",
        "# Get the fitted parameters used by the function\n",
        "\n",
        "(mu, sigma) = stats.norm.fit(df['tx_price'])\n",
        "\n",
        "# plot with the distribution\n",
        "\n",
        "plt.legend(['Normal dist. ($\\mu=$ {:.2f} and $\\sigma=$ {:.2f} )'.format(mu, sigma)], loc='best')\n",
        "plt.ylabel('Frequency')\n",
        "\n",
        "#Probablity plot\n",
        "\n",
        "fig = plt.figure()\n",
        "stats.probplot(df['tx_price'], plot=plt)\n",
        "plt.show()"
      ],
      "execution_count": 0,
      "outputs": []
    },
    {
      "cell_type": "code",
      "metadata": {
        "id": "tk0r7fzB15IC",
        "colab_type": "code",
        "outputId": "cad41cc3-1ae3-4f31-f003-f9dd36e44f88",
        "colab": {
          "base_uri": "https://localhost:8080/",
          "height": 35
        }
      },
      "source": [
        "# Data Cleaning\n",
        "# Display number of missing values by feature\n",
        "df.columns[df.isnull().any()]"
      ],
      "execution_count": 15,
      "outputs": [
        {
          "output_type": "execute_result",
          "data": {
            "text/plain": [
              "Index(['exterior_walls', 'roof', 'basement'], dtype='object')"
            ]
          },
          "metadata": {
            "tags": []
          },
          "execution_count": 15
        }
      ]
    },
    {
      "cell_type": "code",
      "metadata": {
        "id": "MwFq6A9pC8Tq",
        "colab_type": "code",
        "colab": {
          "base_uri": "https://localhost:8080/",
          "height": 87
        },
        "outputId": "3fffe6fd-477f-4437-f76b-1e0bb20f073f"
      },
      "source": [
        "#missing value counts in each of these columns\n",
        "Isnull = df.isnull().sum()/len(df)*100\n",
        "Isnull = Isnull[Isnull>0]\n",
        "Isnull.sort_values(inplace=True, ascending=False)\n",
        "Isnull"
      ],
      "execution_count": 16,
      "outputs": [
        {
          "output_type": "execute_result",
          "data": {
            "text/plain": [
              "roof              18.799788\n",
              "basement          12.002124\n",
              "exterior_walls    11.842804\n",
              "dtype: float64"
            ]
          },
          "metadata": {
            "tags": []
          },
          "execution_count": 16
        }
      ]
    },
    {
      "cell_type": "code",
      "metadata": {
        "id": "SMMwzDXnDnOn",
        "colab_type": "code",
        "colab": {
          "base_uri": "https://localhost:8080/",
          "height": 35
        },
        "outputId": "613aa609-d91a-4e15-eae3-bd17b6ffd8aa"
      },
      "source": [
        "# Correlation\n",
        "df_corr = df.select_dtypes(include=[np.number])\n",
        "df_corr.shape"
      ],
      "execution_count": 19,
      "outputs": [
        {
          "output_type": "execute_result",
          "data": {
            "text/plain": [
              "(1883, 23)"
            ]
          },
          "metadata": {
            "tags": []
          },
          "execution_count": 19
        }
      ]
    },
    {
      "cell_type": "code",
      "metadata": {
        "id": "iczAHGPYE6i0",
        "colab_type": "code",
        "colab": {}
      },
      "source": [
        "# Correlation heat map\n",
        "corr = df_corr.corr()\n",
        "plt.subplots(figsize=(20,9))\n",
        "sns.heatmap(corr, cmap=\"viridis\", annot=True)"
      ],
      "execution_count": 0,
      "outputs": []
    },
    {
      "cell_type": "code",
      "metadata": {
        "id": "_QmHhLlSF-mH",
        "colab_type": "code",
        "colab": {}
      },
      "source": [
        "#top feature greater than 0.5 correlation\n",
        "top_feature = df_kor.index[abs(corr['tx_price']>0.4)]\n",
        "plt.subplots(figsize=(12, 8))\n",
        "top_corr = df[top_feature].corr()\n",
        "sns.heatmap(top_corr, cmap=\"viridis\", annot=True)\n",
        "plt.show()"
      ],
      "execution_count": 0,
      "outputs": []
    },
    {
      "cell_type": "code",
      "metadata": {
        "id": "4PdGVA1HIv0y",
        "colab_type": "code",
        "colab": {}
      },
      "source": [
        "# feature importance\n",
        "print(\"Find most important features relative to target\")\n",
        "corr = df.corr()\n",
        "corr.sort_values(['tx_price'], ascending=False, inplace=True)\n",
        "corr.tx_price"
      ],
      "execution_count": 0,
      "outputs": []
    },
    {
      "cell_type": "code",
      "metadata": {
        "id": "s4dXtq94KZNj",
        "colab_type": "code",
        "colab": {}
      },
      "source": [
        "# replacing missing value with none\n",
        "for col in ('roof', 'exterior_walls'):\n",
        "    df[col] = df[col].fillna('None')"
      ],
      "execution_count": 0,
      "outputs": []
    },
    {
      "cell_type": "code",
      "metadata": {
        "id": "xt5MdWK7KxBS",
        "colab_type": "code",
        "colab": {}
      },
      "source": [
        "# Replacing specific missing values with Median\n",
        "df['basement'] = df['basement'].fillna(int(0))"
      ],
      "execution_count": 0,
      "outputs": []
    },
    {
      "cell_type": "code",
      "metadata": {
        "id": "srpRM-TfNEoT",
        "colab_type": "code",
        "colab": {}
      },
      "source": [
        "#Checking there is any null value or not\n",
        "plt.figure(figsize=(10, 5))\n",
        "sns.heatmap(df.isnull())"
      ],
      "execution_count": 0,
      "outputs": []
    },
    {
      "cell_type": "code",
      "metadata": {
        "id": "OeQhNNC1OHUx",
        "colab_type": "code",
        "colab": {}
      },
      "source": [
        "df.dtypes"
      ],
      "execution_count": 0,
      "outputs": []
    },
    {
      "cell_type": "code",
      "metadata": {
        "id": "23vIwaPENo_n",
        "colab_type": "code",
        "colab": {}
      },
      "source": [
        "# Encoding str to int\n",
        "cols = ('property_type', 'exterior_walls', 'roof', 'basement', 'median_school')"
      ],
      "execution_count": 0,
      "outputs": []
    },
    {
      "cell_type": "code",
      "metadata": {
        "id": "7NOkVkbjOxUo",
        "colab_type": "code",
        "colab": {}
      },
      "source": [
        "from sklearn.preprocessing import LabelEncoder\n",
        "for c in cols:\n",
        "    lbl = LabelEncoder() \n",
        "    lbl.fit(list(df[c].values)) \n",
        "    df[c] = lbl.transform(list(df[c].values))"
      ],
      "execution_count": 0,
      "outputs": []
    },
    {
      "cell_type": "code",
      "metadata": {
        "colab_type": "code",
        "id": "67hLtz6JY1hP",
        "colab": {}
      },
      "source": [
        "# Machine Learning \n",
        "\n",
        "# Machine Learning using the Linear Regression\n",
        "# Split data into training and test sets\n",
        "data = df\n",
        "y = data.tx_price\n",
        "X = data.drop('tx_price', axis=1)\n",
        "X_train, X_test, y_train, y_test = train_test_split(X, y, test_size=0.2, random_state=123)\n",
        "\n",
        "# Fitting Linear Regression to the Training set\n",
        "from sklearn.linear_model import LinearRegression\n",
        "\n",
        "regressor = LinearRegression()\n",
        "clf_reg = regressor.fit(X_train, y_train)"
      ],
      "execution_count": 0,
      "outputs": []
    },
    {
      "cell_type": "code",
      "metadata": {
        "id": "uc_3jsdkP8TB",
        "colab_type": "code",
        "colab": {}
      },
      "source": [
        "# Predicting the Test set results\n",
        "y_pred = clf_reg.predict(X_test)"
      ],
      "execution_count": 0,
      "outputs": []
    },
    {
      "cell_type": "code",
      "metadata": {
        "id": "Dh8wEPTZQYcp",
        "colab_type": "code",
        "colab": {
          "base_uri": "https://localhost:8080/",
          "height": 52
        },
        "outputId": "8be820bc-c8ef-4d6b-cf2e-9048c2780533"
      },
      "source": [
        "# Evaluating the Test set results\n",
        "print(\"MSE -->  \", mean_squared_error(y_test, y_pred))\n",
        "print(\"Accuracy --> \",  regressor.score(X_test, y_test)*100)"
      ],
      "execution_count": 54,
      "outputs": [
        {
          "output_type": "stream",
          "text": [
            "MSE -->   12614771264.33042\n",
            "Accuracy -->  45.129983448686204\n"
          ],
          "name": "stdout"
        }
      ]
    },
    {
      "cell_type": "code",
      "metadata": {
        "id": "yS-c-fpGRYZQ",
        "colab_type": "code",
        "colab": {}
      },
      "source": [
        "# Machine Learning using the Random Forest Algorithm\n",
        "# Split data into training and test sets\n",
        "data = df\n",
        "y = data.tx_price\n",
        "X = data.drop('tx_price', axis=1)\n",
        "X_train, X_test, y_train, y_test = train_test_split(X, y, test_size=0.2,random_state=123)\n",
        "\n",
        "# Fitting Random Forest Decision Tree Regression to the Training set\n",
        "from sklearn.ensemble import RandomForestRegressor\n",
        "regressor = RandomForestRegressor()\n",
        "clf_rf = regressor.fit(X_train, y_train)\n",
        "\n",
        "# Predicting the Test set results\n",
        "y_pred = clf_rf.predict(X_test)"
      ],
      "execution_count": 0,
      "outputs": []
    },
    {
      "cell_type": "code",
      "metadata": {
        "id": "Ud8OB4ZQRhMW",
        "colab_type": "code",
        "colab": {
          "base_uri": "https://localhost:8080/",
          "height": 52
        },
        "outputId": "89497a7d-cdfe-4d89-9c32-e2b4e253cb51"
      },
      "source": [
        "# Evaluating the Test set results\n",
        "print(\"MSE -->  \", mean_squared_error(y_test, y_pred))\n",
        "print(\"Accuracy --> \",  regressor.score(X_test, y_test)*100)"
      ],
      "execution_count": 56,
      "outputs": [
        {
          "output_type": "stream",
          "text": [
            "MSE -->   4625108447.84865\n",
            "Accuracy -->  79.88233224627183\n"
          ],
          "name": "stdout"
        }
      ]
    },
    {
      "cell_type": "code",
      "metadata": {
        "id": "N-UQN3VARrQD",
        "colab_type": "code",
        "colab": {}
      },
      "source": [
        "# Machine Learning using the Gradient boosting regressor Algorithm\n",
        "# Split data into training and test sets\n",
        "data = df\n",
        "y = data.tx_price\n",
        "X = data.drop('tx_price', axis=1)\n",
        "X_train, X_test, y_train, y_test = train_test_split(X, y, test_size=0.2,random_state=123)\n",
        "\n",
        "# Fitting gradient boosting regressor model to the Training set\n",
        "from sklearn.ensemble import GradientBoostingRegressor\n",
        "regressor = GradientBoostingRegressor()\n",
        "clf_rf = regressor.fit(X_train, y_train)\n",
        "\n",
        "# Predicting the Test set results\n",
        "y_pred = clf_rf.predict(X_test)"
      ],
      "execution_count": 0,
      "outputs": []
    },
    {
      "cell_type": "code",
      "metadata": {
        "id": "ROyb_cQkSo3E",
        "colab_type": "code",
        "colab": {
          "base_uri": "https://localhost:8080/",
          "height": 52
        },
        "outputId": "160891bc-ef3a-4adf-da79-f88de65b857c"
      },
      "source": [
        "# Evaluating the Test set results\n",
        "print(\"MSE -->  \", mean_squared_error(y_test, y_pred))\n",
        "print(\"Accuracy --> \",  regressor.score(X_test, y_test)*100)"
      ],
      "execution_count": 58,
      "outputs": [
        {
          "output_type": "stream",
          "text": [
            "MSE -->   4480752099.796018\n",
            "Accuracy -->  80.51023385787951\n"
          ],
          "name": "stdout"
        }
      ]
    },
    {
      "cell_type": "code",
      "metadata": {
        "id": "blBZhBjhTLOV",
        "colab_type": "code",
        "colab": {}
      },
      "source": [
        "# Machine Learning using the Decision tree regressor Algorithm\n",
        "# Split data into training and test sets\n",
        "data = df\n",
        "y = data.tx_price\n",
        "X = data.drop('tx_price', axis=1)\n",
        "X_train, X_test, y_train, y_test = train_test_split(X, y, test_size=0.2,random_state=123)\n",
        "\n",
        "# Fitting Decision tree regressor model to the Training set\n",
        "from sklearn.tree import DecisionTreeRegressor\n",
        "regressor = DecisionTreeRegressor()\n",
        "clf_rf = regressor.fit(X_train, y_train)\n",
        "\n",
        "# Predicting the Test set results\n",
        "y_pred = clf_rf.predict(X_test)"
      ],
      "execution_count": 0,
      "outputs": []
    },
    {
      "cell_type": "code",
      "metadata": {
        "id": "uDvA1HyKTi_o",
        "colab_type": "code",
        "colab": {
          "base_uri": "https://localhost:8080/",
          "height": 52
        },
        "outputId": "4574c440-849b-457e-ad73-1f79bf7a89da"
      },
      "source": [
        "# Evaluating the Test set results\n",
        "print(\"MSE -->  \", mean_squared_error(y_test, y_pred))\n",
        "print(\"Accuracy --> \",  regressor.score(X_test, y_test)*100)"
      ],
      "execution_count": 60,
      "outputs": [
        {
          "output_type": "stream",
          "text": [
            "MSE -->   9532927671.877985\n",
            "Accuracy -->  58.534967604409715\n"
          ],
          "name": "stdout"
        }
      ]
    }
  ]
}